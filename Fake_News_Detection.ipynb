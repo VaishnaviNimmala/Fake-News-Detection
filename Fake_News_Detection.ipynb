{
  "nbformat": 4,
  "nbformat_minor": 0,
  "metadata": {
    "colab": {
      "provenance": [],
      "authorship_tag": "ABX9TyOJusoZAuLN0CVdQwcWCsH3",
      "include_colab_link": true
    },
    "kernelspec": {
      "name": "python3",
      "display_name": "Python 3"
    },
    "language_info": {
      "name": "python"
    }
  },
  "cells": [
    {
      "cell_type": "markdown",
      "metadata": {
        "id": "view-in-github",
        "colab_type": "text"
      },
      "source": [
        "<a href=\"https://colab.research.google.com/github/VaishnaviNimmala/Fake-News-Detection/blob/main/Fake_News_Detection.ipynb\" target=\"_parent\"><img src=\"https://colab.research.google.com/assets/colab-badge.svg\" alt=\"Open In Colab\"/></a>"
      ]
    },
    {
      "cell_type": "markdown",
      "source": [
        "## 📰 Fake News Detection with Logistic Regression\n",
        "Detect Fake vs Real news using Logistic Regression and TF-IDF features.\n"
      ],
      "metadata": {
        "id": "vi7YfasllH_t"
      }
    },
    {
      "cell_type": "code",
      "source": [
        "# =============================\n",
        "# Imports\n",
        "# =============================\n",
        "import pandas as pd\n",
        "import numpy as np\n",
        "import matplotlib.pyplot as plt\n",
        "import seaborn as sns\n",
        "import re\n",
        "from wordcloud import WordCloud\n",
        "from sklearn.model_selection import train_test_split\n",
        "from sklearn.feature_extraction.text import TfidfVectorizer\n",
        "from sklearn.linear_model import LogisticRegression\n",
        "from sklearn.metrics import accuracy_score, confusion_matrix, classification_report, roc_curve"
      ],
      "metadata": {
        "id": "QGv9A_WOCwW0"
      },
      "execution_count": 1,
      "outputs": []
    },
    {
      "cell_type": "markdown",
      "source": [
        "## 1. Load & Explore Dataset\n",
        "- Load news dataset (CSV/ZIP).\n",
        "- Handle missing values in text.\n",
        "- Convert labels: FAKE → 0, REAL → 1.\n"
      ],
      "metadata": {
        "id": "VrbtZ4l2ldPz"
      }
    },
    {
      "cell_type": "code",
      "source": [
        "# =============================\n",
        "# Load Dataset\n",
        "# =============================\n",
        "df = pd.read_csv(\"/content/news_dataset.csv.zip\")\n",
        "df = df.dropna(subset=[\"label\"])\n",
        "df[\"text\"] = df[\"text\"].fillna(\"\")\n",
        "\n",
        "# Features & Labels\n",
        "X = df[\"text\"]\n",
        "y = df[\"label\"].map({\"FAKE\":0, \"REAL\":1})  # convert labels to 0/1\n",
        "\n",
        "# Split\n",
        "X_train, X_test, y_train, y_test = train_test_split(X,y,test_size=0.2,random_state=42,stratify=y)"
      ],
      "metadata": {
        "id": "AYp5pEaPDCZu"
      },
      "execution_count": 2,
      "outputs": []
    },
    {
      "cell_type": "markdown",
      "source": [
        "## 2. Preprocessing\n",
        "- Train-Test split (80/20).\n",
        "- Convert text → numerical features using TF-IDF.\n",
        "## 3. Train Model\n",
        "- Use Logistic Regression classifier.\n",
        "- Fit model on TF-IDF vectors.\n",
        "## 4. Evaluation\n",
        "- Accuracy\n",
        "- Classification Report (Precision, Recall, F1)\n",
        "- Confusion Matrix Heatmap\n",
        "## 5. Save & Load Model\n",
        "- Save model and vectorizer using joblib.\n",
        "- Reload them for real-time predictions.\n",
        "## 6. Fake News Detection Function\n",
        "- Input: User-provided news text\n",
        "- Output:\n",
        "  - Prediction (REAL ✅ or FAKE ❌)\n",
        "  - Confidence scores\n",
        "  - Clickbait words detected\n",
        "  - Neutral rewritten version\n"
      ],
      "metadata": {
        "id": "fm_hS-tFlnHk"
      }
    },
    {
      "cell_type": "code",
      "source": [
        "# ===============================\n",
        "# Fake News Detection with Logistic Regression\n",
        "# ===============================\n",
        "\n",
        "import pandas as pd\n",
        "import numpy as np\n",
        "from sklearn.model_selection import train_test_split\n",
        "from sklearn.feature_extraction.text import TfidfVectorizer\n",
        "from sklearn.linear_model import LogisticRegression\n",
        "from sklearn.metrics import accuracy_score, confusion_matrix, classification_report\n",
        "import matplotlib.pyplot as plt\n",
        "import seaborn as sns\n",
        "import joblib\n",
        "import os\n",
        "\n",
        "# 1. Load Dataset\n",
        "df = pd.read_csv(\"/content/news_dataset.csv.zip\")\n",
        "print(df.head())\n",
        "\n",
        "# Fill missing values in 'text' column\n",
        "df[\"text\"] = df[\"text\"].fillna(\"\")\n",
        "\n",
        "\n",
        "# 2. Check for missing values\n",
        "print(\"\\nMissing values:\\n\", df.isnull().sum())\n",
        "\n",
        "# 3. Map labels (VERY IMPORTANT - do this before splitting)\n",
        "# Assuming dataset has column 'label' with values 'FAKE' and 'REAL'\n",
        "df['label'] = df['label'].map({'FAKE': 0, 'REAL': 1})\n",
        "\n",
        "# Check distribution\n",
        "print(\"\\nLabel distribution:\\n\", df['label'].value_counts())\n",
        "\n",
        "# 4. Feature (X) and Target (y)\n",
        "X = df['text']   # news text column\n",
        "y = df['label']  # 0 or 1\n",
        "\n",
        "# 5. Train-Test Split\n",
        "X_train, X_test, y_train, y_test = train_test_split(\n",
        "    X, y, test_size=0.2, random_state=42, stratify=y\n",
        ")\n",
        "\n",
        "# 6. TF-IDF Vectorization\n",
        "vectorizer = TfidfVectorizer(stop_words='english', max_df=0.7)\n",
        "X_train_tfidf = vectorizer.fit_transform(X_train)\n",
        "X_test_tfidf = vectorizer.transform(X_test)\n",
        "\n",
        "# 7. Train Logistic Regression Model\n",
        "model = LogisticRegression()\n",
        "model.fit(X_train_tfidf, y_train)\n",
        "\n",
        "# 8. Predictions\n",
        "y_pred = model.predict(X_test_tfidf)\n",
        "\n",
        "# 9. Evaluation\n",
        "print(\"\\nAccuracy:\", accuracy_score(y_test, y_pred))\n",
        "print(\"\\nClassification Report:\\n\", classification_report(y_test, y_pred))\n",
        "\n",
        "# 10. Confusion Matrix\n",
        "cm = confusion_matrix(y_test, y_pred)\n",
        "plt.figure(figsize=(6,4))\n",
        "sns.heatmap(cm, annot=True, fmt=\"d\", cmap=\"Blues\",\n",
        "            xticklabels=[\"FAKE\", \"REAL\"],\n",
        "            yticklabels=[\"FAKE\", \"REAL\"])\n",
        "plt.xlabel(\"Predicted\")\n",
        "plt.ylabel(\"Actual\")\n",
        "plt.title(\"Confusion Matrix - Fake News Detection\")\n",
        "plt.show()\n",
        "\n",
        "# 11. Save Model and Vectorizer\n",
        "output_dir = \"/content/artifacts\"\n",
        "os.makedirs(output_dir, exist_ok=True)\n",
        "joblib.dump(model, os.path.join(output_dir, \"fake_news_model.joblib\"))\n",
        "joblib.dump(vectorizer, os.path.join(output_dir, \"vectorizer.joblib\"))\n",
        "print(f\"\\nModel and vectorizer saved to {output_dir}\")"
      ],
      "metadata": {
        "colab": {
          "base_uri": "https://localhost:8080/",
          "height": 982
        },
        "id": "Z2oFEKaHwI77",
        "outputId": "80b34618-9e11-4408-b059-63daa8e35d24"
      },
      "execution_count": 3,
      "outputs": [
        {
          "output_type": "stream",
          "name": "stdout",
          "text": [
            "  label                                               text\n",
            "0  REAL  Payal has accused filmmaker Anurag Kashyap of ...\n",
            "1  FAKE  A four-minute-long video of a woman criticisin...\n",
            "2  FAKE  Republic Poll, a fake Twitter account imitatin...\n",
            "3  REAL  Delhi teen finds place on UN green list, turns...\n",
            "4  REAL  Delhi: A high-level meeting underway at reside...\n",
            "\n",
            "Missing values:\n",
            " label    0\n",
            "text     0\n",
            "dtype: int64\n",
            "\n",
            "Label distribution:\n",
            " label\n",
            "0    1877\n",
            "1    1852\n",
            "Name: count, dtype: int64\n",
            "\n",
            "Accuracy: 0.9959785522788204\n",
            "\n",
            "Classification Report:\n",
            "               precision    recall  f1-score   support\n",
            "\n",
            "           0       1.00      0.99      1.00       376\n",
            "           1       0.99      1.00      1.00       370\n",
            "\n",
            "    accuracy                           1.00       746\n",
            "   macro avg       1.00      1.00      1.00       746\n",
            "weighted avg       1.00      1.00      1.00       746\n",
            "\n"
          ]
        },
        {
          "output_type": "display_data",
          "data": {
            "text/plain": [
              "<Figure size 600x400 with 2 Axes>"
            ],
            "image/png": "[encoded data removed]"
          },
          "metadata": {}
        },
        {
          "output_type": "stream",
          "name": "stdout",
          "text": [
            "\n",
            "Model and vectorizer saved to /content/artifacts\n"
          ]
        }
      ]
    },
    {
      "cell_type": "code",
      "source": [
        "import joblib\n",
        "\n",
        "model = joblib.load(\"/content/artifacts/fake_news_model.joblib\")\n",
        "vectorizer = joblib.load(\"/content/artifacts/vectorizer.joblib\")\n"
      ],
      "metadata": {
        "id": "KCUR5xH6wPmz"
      },
      "execution_count": 4,
      "outputs": []
    },
    {
      "cell_type": "code",
      "source": [
        "import joblib\n",
        "import re\n",
        "\n",
        "# ==============================\n",
        "# Load trained model & vectorizer\n",
        "# ==============================\n",
        "model = joblib.load(\"/content/artifacts/fake_news_model.joblib\")\n",
        "vectorizer = joblib.load(\"/content/artifacts/vectorizer.joblib\")\n",
        "\n",
        "# ==============================\n",
        "# Fake news detection function\n",
        "# ==============================\n",
        "def detect_fake_news(user_input):\n",
        "    # Transform input text into vector\n",
        "    input_vec = vectorizer.transform([user_input])\n",
        "\n",
        "    # Model prediction & probabilities\n",
        "    prediction = model.predict(input_vec)[0]\n",
        "    prob = model.predict_proba(input_vec)[0]\n",
        "\n",
        "    # Assign labels\n",
        "    label = \"REAL ✅\" if prediction == 1 else \"FAKE ❌\"\n",
        "\n",
        "    # Find clickbait words\n",
        "    clickbait_words = re.findall(\n",
        "        r\"\\b(breaking|shocking|miracle|cure|amazing|today|long|unbelievable)\\b\",\n",
        "        user_input,\n",
        "        flags=re.IGNORECASE\n",
        "    )\n",
        "\n",
        "    # Generate a better (neutral) version of the input\n",
        "    better_version = re.sub(\n",
        "        r\"\\b(breaking|shocking|miracle|cure|amazing|unbelievable|today)\\b\",\n",
        "        \"\",\n",
        "        user_input,\n",
        "        flags=re.IGNORECASE\n",
        "    ).strip()\n",
        "\n",
        "    if better_version == user_input:\n",
        "        better_version = \"This news is written in a balanced way, no strong rewrite needed.\"\n",
        "\n",
        "    # Build final output\n",
        "    output = f\"\"\"\n",
        "🔹 User Input: \"{user_input}\"\n",
        "\n",
        "✅ Prediction: {label}\n",
        "\n",
        "📊 Confidence:\n",
        "   - REAL: {prob[1]*100:.2f}%\n",
        "   - FAKE: {prob[0]*100:.2f}%\n",
        "\n",
        "📝 Reasoning:\n",
        "   {\"Overly sensational → matches fake-news dataset patterns.\" if prediction == 0 else \"Matches reliable patterns from real news dataset.\"}\n",
        "\n",
        "⚠️ Clickbait Words Detected: {\", \".join(clickbait_words) if clickbait_words else \"None\"}\n",
        "\n",
        "✨ Better Version:\n",
        "   \"{better_version}\"\n",
        "    \"\"\"\n",
        "\n",
        "    return output\n",
        "\n",
        "# ==============================\n",
        "# Example usage\n",
        "# ==============================\n",
        "user_input = \"Breaking: A four-minute-long video of a woman criticisin!\"\n",
        "print(detect_fake_news(user_input))\n"
      ],
      "metadata": {
        "colab": {
          "base_uri": "https://localhost:8080/"
        },
        "id": "j478IJF5OWWa",
        "outputId": "1acad2c4-ecbe-418d-e220-79c4d6462cff"
      },
      "execution_count": 22,
      "outputs": [
        {
          "output_type": "stream",
          "name": "stdout",
          "text": [
            "\n",
            "🔹 User Input: \"Breaking: A four-minute-long video of a woman criticisin!\"\n",
            "\n",
            "✅ Prediction: FAKE ❌\n",
            "\n",
            "📊 Confidence:\n",
            "   - REAL: 17.89%\n",
            "   - FAKE: 82.11%\n",
            "\n",
            "📝 Reasoning:\n",
            "   Overly sensational → matches fake-news dataset patterns.\n",
            "\n",
            "⚠️ Clickbait Words Detected: Breaking, long\n",
            "\n",
            "✨ Better Version:\n",
            "   \": A four-minute-long video of a woman criticisin!\"\n",
            "    \n"
          ]
        }
      ]
    },
    {
      "cell_type": "code",
      "source": [
        "from transformers import BertTokenizer, BertModel\n",
        "import torch\n",
        "import numpy as np\n",
        "\n",
        "# Load pre-trained BERT\n",
        "tokenizer = BertTokenizer.from_pretrained('bert-base-uncased')\n",
        "bert_model = BertModel.from_pretrained('bert-base-uncased')\n",
        "\n",
        "def get_bert_embedding(text):\n",
        "    inputs = tokenizer(text, return_tensors='pt', truncation=True, padding=True, max_length=128)\n",
        "    with torch.no_grad():\n",
        "        outputs = bert_model(**inputs)\n",
        "    # CLS token representation\n",
        "    return outputs.last_hidden_state[:,0,:].numpy()\n"
      ],
      "metadata": {
        "colab": {
          "base_uri": "https://localhost:8080/"
        },
        "id": "ozWq4-LnHHRY",
        "outputId": "50a50aca-5008-4fdd-c913-f2ee13b961db"
      },
      "execution_count": 6,
      "outputs": [
        {
          "output_type": "stream",
          "name": "stderr",
          "text": [
            "/usr/local/lib/python3.12/dist-packages/huggingface_hub/utils/_auth.py:94: UserWarning: \n",
            "The secret `HF_TOKEN` does not exist in your Colab secrets.\n",
            "To authenticate with the Hugging Face Hub, create a token in your settings tab (https://huggingface.co/settings/tokens), set it as secret in your Google Colab and restart your session.\n",
            "You will be able to reuse this secret in all of your notebooks.\n",
            "Please note that authentication is recommended but still optional to access public models or datasets.\n",
            "  warnings.warn(\n"
          ]
        }
      ]
    },
    {
      "cell_type": "markdown",
      "source": [
        "This function takes a piece of text and converts it into a numerical vector (embedding) using a pre-trained BERT model.\n",
        "\n",
        "First, the text is tokenized into a format BERT understands (token IDs with padding/truncation).\n",
        "\n",
        "Then, the tokens are passed through BERT, which produces hidden representations for every word.\n",
        "\n",
        "Instead of keeping all token embeddings, we extract the special [CLS] token embedding, which is designed to represent the meaning of the entire sentence.\n",
        "\n",
        "Finally, that embedding is returned as a 768-dimensional vector (for bert-base-uncased)."
      ],
      "metadata": {
        "id": "j225ba5aKSWV"
      }
    },
    {
      "cell_type": "code",
      "source": [
        "# Example credibility dictionary\n",
        "source_reputation = {\n",
        "    \"bbc.com\": 0.95,\n",
        "    \"cnn.com\": 0.90,\n",
        "    \"randomblog.xyz\": 0.20,\n",
        "    \"unknown\": 0.50\n",
        "}\n",
        "\n",
        "def get_source_score(url):\n",
        "    for site, score in source_reputation.items():\n",
        "        if site in url:\n",
        "            return score\n",
        "    return source_reputation[\"unknown\"]\n"
      ],
      "metadata": {
        "id": "gjoGuQqwHd89"
      },
      "execution_count": 7,
      "outputs": []
    },
    {
      "cell_type": "markdown",
      "source": [
        "You maintain a dictionary of domains with credibility scores (0 to 1).\n",
        "\n",
        "Example: \"bbc.com\": 0.95 → BBC is highly credible.\n",
        "\n",
        "\"randomblog.xyz\": 0.20 → Random blog is not credible.\n",
        "\n",
        "\"unknown\": 0.50 → Neutral score when the source is unknown.\n",
        "\n",
        "The function get_source_score(url):\n",
        "\n",
        "Loops through the dictionary.\n",
        "\n",
        "If the given url contains a known site name, it returns that site’s score.\n",
        "\n",
        "If no match is found, it defaults to \"unknown\" (0.50)\n"
      ],
      "metadata": {
        "id": "srQxdTGMKtsY"
      }
    },
    {
      "cell_type": "markdown",
      "source": [
        "Why this is useful in fake-news detection\n",
        "\n",
        "High score = source is likely reliable.\n",
        "\n",
        "Low score = source is suspicious.\n",
        "\n",
        "This can be combined with text analysis (BERT) and image analysis (CNN) as an extra feature in your multimodal pipeline."
      ],
      "metadata": {
        "id": "MKr7w4bdKzpn"
      }
    },
    {
      "cell_type": "code",
      "source": [
        "import datetime\n",
        "\n",
        "def get_time_features(published_time):\n",
        "    now = datetime.datetime.now()\n",
        "    hours_old = (now - published_time).total_seconds() / 3600.0\n",
        "    return [hours_old, 1 if hours_old < 24 else 0]  # recent or not\n"
      ],
      "metadata": {
        "id": "XTQXMOMOHnDg"
      },
      "execution_count": 8,
      "outputs": []
    },
    {
      "cell_type": "markdown",
      "source": [
        "Takes published_time (a datetime object of when the article was published).\n",
        "\n",
        "Finds the difference between the current time (now) and published_time.\n",
        "\n",
        "Calculates how many hours old the article is:\n",
        "\n",
        "hours_old = (now - published_time).total_seconds() / 3600.0\n",
        "\n",
        "\n",
        "Example: if an article was published 6 hours ago → hours_old = 6.0.\n",
        "\n",
        "If 2 days old → hours_old = 48.0.\n",
        "\n",
        "Returns two features in a list:\n",
        "\n",
        "hours_old → numeric value showing the age of the article in hours.\n",
        "\n",
        "1 if hours_old < 24 else 0 → binary flag indicating if the article is recent (published within the last day)."
      ],
      "metadata": {
        "id": "c1GFcyi_K0lh"
      }
    },
    {
      "cell_type": "code",
      "source": [
        "from torchvision import models, transforms\n",
        "from PIL import Image\n",
        "\n",
        "resnet = models.resnet50(pretrained=True)\n",
        "resnet.eval()\n",
        "\n",
        "img_transform = transforms.Compose([\n",
        "    transforms.Resize((224,224)),\n",
        "    transforms.ToTensor(),\n",
        "    transforms.Normalize(mean=[0.485,0.456,0.406], std=[0.229,0.224,0.225])\n",
        "])\n",
        "\n",
        "def get_image_embedding(image_path):\n",
        "    img = Image.open(image_path).convert('RGB')\n",
        "    img = img_transform(img).unsqueeze(0)\n",
        "    with torch.no_grad():\n",
        "        features = resnet(img)\n",
        "    return features.numpy()\n"
      ],
      "metadata": {
        "colab": {
          "base_uri": "https://localhost:8080/"
        },
        "id": "uaFPEMsUHr-n",
        "outputId": "02b859c3-9eef-4574-e52a-9b8e28c03712"
      },
      "execution_count": 9,
      "outputs": [
        {
          "output_type": "stream",
          "name": "stderr",
          "text": [
            "/usr/local/lib/python3.12/dist-packages/torchvision/models/_utils.py:208: UserWarning: The parameter 'pretrained' is deprecated since 0.13 and may be removed in the future, please use 'weights' instead.\n",
            "  warnings.warn(\n",
            "/usr/local/lib/python3.12/dist-packages/torchvision/models/_utils.py:223: UserWarning: Arguments other than a weight enum or `None` for 'weights' are deprecated since 0.13 and may be removed in the future. The current behavior is equivalent to passing `weights=ResNet50_Weights.IMAGENET1K_V1`. You can also use `weights=ResNet50_Weights.DEFAULT` to get the most up-to-date weights.\n",
            "  warnings.warn(msg)\n"
          ]
        }
      ]
    },
    {
      "cell_type": "code",
      "source": [
        "def build_feature_vector(text, url, published_time, image_path):\n",
        "    text_vec = get_bert_embedding(text)\n",
        "    source_score = np.array([get_source_score(url)])\n",
        "    time_feats = np.array(get_time_features(published_time))\n",
        "    image_vec = get_image_embedding(image_path)\n",
        "\n",
        "    # Concatenate all into one vector\n",
        "    return np.concatenate([text_vec.flatten(), source_score, time_feats, image_vec.flatten()])\n"
      ],
      "metadata": {
        "id": "nI9JdgUDHwMq"
      },
      "execution_count": 10,
      "outputs": []
    },
    {
      "cell_type": "markdown",
      "source": [
        "The build_feature_vector function is basically your feature engineering hub for fake news detection. It combines four important signals:\n",
        "\n",
        "Text meaning (BERT embeddings) → captures the semantic understanding of the news article.\n",
        "\n",
        "Source credibility → measures how trustworthy the publishing site is.\n",
        "\n",
        "Time features → checks how recent or old the news is, since fake news often spreads as “breaking” content.\n",
        "\n",
        "Image features → captures the visual context of any attached image, which can reveal whether the picture matches the story.\n",
        "\n",
        "All these pieces are flattened and merged into a single long vector. That vector becomes the input to your machine learning model."
      ],
      "metadata": {
        "id": "xnkARi-aLGu2"
      }
    },
    {
      "cell_type": "code",
      "source": [
        "from PIL import Image, ImageDraw, ImageFont\n",
        "\n",
        "# Create \"fake news\" image\n",
        "fake_img = Image.new('RGB', (300, 200), color='red')\n",
        "draw = ImageDraw.Draw(fake_img)\n",
        "draw.text((50, 80), \"FAKE NEWS\", fill=\"white\")\n",
        "fake_img.save(\"fake_image.jpg\")\n",
        "\n",
        "# Create \"real news\" image\n",
        "real_img = Image.new('RGB', (300, 200), color='green')\n",
        "draw = ImageDraw.Draw(real_img)\n",
        "draw.text((50, 80), \"REAL NEWS\", fill=\"white\")\n",
        "real_img.save(\"real_image.jpg\")\n",
        "\n",
        "print(\"✅ Images created: fake_image.jpg, real_image.jpg\")\n"
      ],
      "metadata": {
        "colab": {
          "base_uri": "https://localhost:8080/"
        },
        "id": "66tRiHA4Iv13",
        "outputId": "2cd5e1b8-eee1-4045-829f-6965f8b87bfe"
      },
      "execution_count": 11,
      "outputs": [
        {
          "output_type": "stream",
          "name": "stdout",
          "text": [
            "✅ Images created: fake_image.jpg, real_image.jpg\n"
          ]
        }
      ]
    },
    {
      "cell_type": "code",
      "source": [
        "from IPython.display import Image as IPyImage\n",
        "\n",
        "IPyImage(\"fake_image.jpg\")\n"
      ],
      "metadata": {
        "colab": {
          "base_uri": "https://localhost:8080/",
          "height": 217
        },
        "id": "CkNJcPd9Ixbs",
        "outputId": "a2babb98-1409-48b9-f17f-df8fa3295c58"
      },
      "execution_count": 12,
      "outputs": [
        {
          "output_type": "execute_result",
          "data": {
            "image/jpeg": "[encoded data removed]",
            "text/plain": [
              "<IPython.core.display.Image object>"
            ]
          },
          "metadata": {},
          "execution_count": 12
        }
      ]
    },
    {
      "cell_type": "code",
      "source": [
        "IPyImage(\"real_image.jpg\")\n"
      ],
      "metadata": {
        "colab": {
          "base_uri": "https://localhost:8080/",
          "height": 217
        },
        "id": "_Q_fhnHsI03I",
        "outputId": "a70c2531-a567-4538-9d47-e6c028d01758"
      },
      "execution_count": 13,
      "outputs": [
        {
          "output_type": "execute_result",
          "data": {
            "image/jpeg": "[encoded data removed]",
            "text/plain": [
              "<IPython.core.display.Image object>"
            ]
          },
          "metadata": {},
          "execution_count": 13
        }
      ]
    },
    {
      "cell_type": "code",
      "source": [
        "# Example training data (normally you'd extract from your dataset)\n",
        "texts = [\n",
        "    \"Breaking: Miracle cure discovered today!\",  # fake\n",
        "    \"The government passed a new healthcare bill.\",  # real\n",
        "]\n",
        "\n",
        "urls = [\"randomblog.xyz\", \"bbc.com\"]\n",
        "times = [datetime.datetime.now() - datetime.timedelta(hours=2),\n",
        "         datetime.datetime.now() - datetime.timedelta(days=5)]\n",
        "images = [\"fake_image.jpg\", \"real_image.jpg\"]  # placeholders\n",
        "\n",
        "# Build feature vectors\n",
        "X_train = []\n",
        "y_train = [0, 1]  # 0=fake, 1=real\n",
        "\n",
        "for i in range(len(texts)):\n",
        "    features = build_feature_vector(texts[i], urls[i], times[i], images[i])\n",
        "    X_train.append(features)\n",
        "\n",
        "X_train = np.array(X_train)\n",
        "\n",
        "# Now train\n",
        "import xgboost as xgb # Import the xgboost library with alias xgb\n",
        "clf = xgb.XGBClassifier()\n",
        "clf.fit(X_train, y_train)"
      ],
      "metadata": {
        "colab": {
          "base_uri": "https://localhost:8080/",
          "height": 254
        },
        "id": "HrWuDXGIISZc",
        "outputId": "5a241235-e741-4e06-ffcf-ed24c5342a75"
      },
      "execution_count": 15,
      "outputs": [
        {
          "output_type": "execute_result",
          "data": {
            "text/plain": [
              "XGBClassifier(base_score=None, booster=None, callbacks=None,\n",
              "              colsample_bylevel=None, colsample_bynode=None,\n",
              "              colsample_bytree=None, device=None, early_stopping_rounds=None,\n",
              "              enable_categorical=False, eval_metric=None, feature_types=None,\n",
              "              feature_weights=None, gamma=None, grow_policy=None,\n",
              "              importance_type=None, interaction_constraints=None,\n",
              "              learning_rate=None, max_bin=None, max_cat_threshold=None,\n",
              "              max_cat_to_onehot=None, max_delta_step=None, max_depth=None,\n",
              "              max_leaves=None, min_child_weight=None, missing=nan,\n",
              "              monotone_constraints=None, multi_strategy=None, n_estimators=None,\n",
              "              n_jobs=None, num_parallel_tree=None, ...)"
            ],
            "text/html": [
              "<style>#sk-container-id-1 {\n",
              "  /* Definition of color scheme common for light and dark mode */\n",
              "  --sklearn-color-text: #000;\n",
              "  --sklearn-color-text-muted: #666;\n",
              "  --sklearn-color-line: gray;\n",
              "  /* Definition of color scheme for unfitted estimators */\n",
              "  --sklearn-color-unfitted-level-0: #fff5e6;\n",
              "  --sklearn-color-unfitted-level-1: #f6e4d2;\n",
              "  --sklearn-color-unfitted-level-2: #ffe0b3;\n",
              "  --sklearn-color-unfitted-level-3: chocolate;\n",
              "  /* Definition of color scheme for fitted estimators */\n",
              "  --sklearn-color-fitted-level-0: #f0f8ff;\n",
              "  --sklearn-color-fitted-level-1: #d4ebff;\n",
              "  --sklearn-color-fitted-level-2: #b3dbfd;\n",
              "  --sklearn-color-fitted-level-3: cornflowerblue;\n",
              "\n",
              "  /* Specific color for light theme */\n",
              "  --sklearn-color-text-on-default-background: var(--sg-text-color, var(--theme-code-foreground, var(--jp-content-font-color1, black)));\n",
              "  --sklearn-color-background: var(--sg-background-color, var(--theme-background, var(--jp-layout-color0, white)));\n",
              "  --sklearn-color-border-box: var(--sg-text-color, var(--theme-code-foreground, var(--jp-content-font-color1, black)));\n",
              "  --sklearn-color-icon: #696969;\n",
              "\n",
              "  @media (prefers-color-scheme: dark) {\n",
              "    /* Redefinition of color scheme for dark theme */\n",
              "    --sklearn-color-text-on-default-background: var(--sg-text-color, var(--theme-code-foreground, var(--jp-content-font-color1, white)));\n",
              "    --sklearn-color-background: var(--sg-background-color, var(--theme-background, var(--jp-layout-color0, #111)));\n",
              "    --sklearn-color-border-box: var(--sg-text-color, var(--theme-code-foreground, var(--jp-content-font-color1, white)));\n",
              "    --sklearn-color-icon: #878787;\n",
              "  }\n",
              "}\n",
              "\n",
              "#sk-container-id-1 {\n",
              "  color: var(--sklearn-color-text);\n",
              "}\n",
              "\n",
              "#sk-container-id-1 pre {\n",
              "  padding: 0;\n",
              "}\n",
              "\n",
              "#sk-container-id-1 input.sk-hidden--visually {\n",
              "  border: 0;\n",
              "  clip: rect(1px 1px 1px 1px);\n",
              "  clip: rect(1px, 1px, 1px, 1px);\n",
              "  height: 1px;\n",
              "  margin: -1px;\n",
              "  overflow: hidden;\n",
              "  padding: 0;\n",
              "  position: absolute;\n",
              "  width: 1px;\n",
              "}\n",
              "\n",
              "#sk-container-id-1 div.sk-dashed-wrapped {\n",
              "  border: 1px dashed var(--sklearn-color-line);\n",
              "  margin: 0 0.4em 0.5em 0.4em;\n",
              "  box-sizing: border-box;\n",
              "  padding-bottom: 0.4em;\n",
              "  background-color: var(--sklearn-color-background);\n",
              "}\n",
              "\n",
              "#sk-container-id-1 div.sk-container {\n",
              "  /* jupyter's `normalize.less` sets `[hidden] { display: none; }`\n",
              "     but bootstrap.min.css set `[hidden] { display: none !important; }`\n",
              "     so we also need the `!important` here to be able to override the\n",
              "     default hidden behavior on the sphinx rendered scikit-learn.org.\n",
              "     See: https://github.com/scikit-learn/scikit-learn/issues/21755 */\n",
              "  display: inline-block !important;\n",
              "  position: relative;\n",
              "}\n",
              "\n",
              "#sk-container-id-1 div.sk-text-repr-fallback {\n",
              "  display: none;\n",
              "}\n",
              "\n",
              "div.sk-parallel-item,\n",
              "div.sk-serial,\n",
              "div.sk-item {\n",
              "  /* draw centered vertical line to link estimators */\n",
              "  background-image: linear-gradient(var(--sklearn-color-text-on-default-background), var(--sklearn-color-text-on-default-background));\n",
              "  background-size: 2px 100%;\n",
              "  background-repeat: no-repeat;\n",
              "  background-position: center center;\n",
              "}\n",
              "\n",
              "/* Parallel-specific style estimator block */\n",
              "\n",
              "#sk-container-id-1 div.sk-parallel-item::after {\n",
              "  content: \"\";\n",
              "  width: 100%;\n",
              "  border-bottom: 2px solid var(--sklearn-color-text-on-default-background);\n",
              "  flex-grow: 1;\n",
              "}\n",
              "\n",
              "#sk-container-id-1 div.sk-parallel {\n",
              "  display: flex;\n",
              "  align-items: stretch;\n",
              "  justify-content: center;\n",
              "  background-color: var(--sklearn-color-background);\n",
              "  position: relative;\n",
              "}\n",
              "\n",
              "#sk-container-id-1 div.sk-parallel-item {\n",
              "  display: flex;\n",
              "  flex-direction: column;\n",
              "}\n",
              "\n",
              "#sk-container-id-1 div.sk-parallel-item:first-child::after {\n",
              "  align-self: flex-end;\n",
              "  width: 50%;\n",
              "}\n",
              "\n",
              "#sk-container-id-1 div.sk-parallel-item:last-child::after {\n",
              "  align-self: flex-start;\n",
              "  width: 50%;\n",
              "}\n",
              "\n",
              "#sk-container-id-1 div.sk-parallel-item:only-child::after {\n",
              "  width: 0;\n",
              "}\n",
              "\n",
              "/* Serial-specific style estimator block */\n",
              "\n",
              "#sk-container-id-1 div.sk-serial {\n",
              "  display: flex;\n",
              "  flex-direction: column;\n",
              "  align-items: center;\n",
              "  background-color: var(--sklearn-color-background);\n",
              "  padding-right: 1em;\n",
              "  padding-left: 1em;\n",
              "}\n",
              "\n",
              "\n",
              "/* Toggleable style: style used for estimator/Pipeline/ColumnTransformer box that is\n",
              "clickable and can be expanded/collapsed.\n",
              "- Pipeline and ColumnTransformer use this feature and define the default style\n",
              "- Estimators will overwrite some part of the style using the `sk-estimator` class\n",
              "*/\n",
              "\n",
              "/* Pipeline and ColumnTransformer style (default) */\n",
              "\n",
              "#sk-container-id-1 div.sk-toggleable {\n",
              "  /* Default theme specific background. It is overwritten whether we have a\n",
              "  specific estimator or a Pipeline/ColumnTransformer */\n",
              "  background-color: var(--sklearn-color-background);\n",
              "}\n",
              "\n",
              "/* Toggleable label */\n",
              "#sk-container-id-1 label.sk-toggleable__label {\n",
              "  cursor: pointer;\n",
              "  display: flex;\n",
              "  width: 100%;\n",
              "  margin-bottom: 0;\n",
              "  padding: 0.5em;\n",
              "  box-sizing: border-box;\n",
              "  text-align: center;\n",
              "  align-items: start;\n",
              "  justify-content: space-between;\n",
              "  gap: 0.5em;\n",
              "}\n",
              "\n",
              "#sk-container-id-1 label.sk-toggleable__label .caption {\n",
              "  font-size: 0.6rem;\n",
              "  font-weight: lighter;\n",
              "  color: var(--sklearn-color-text-muted);\n",
              "}\n",
              "\n",
              "#sk-container-id-1 label.sk-toggleable__label-arrow:before {\n",
              "  /* Arrow on the left of the label */\n",
              "  content: \"▸\";\n",
              "  float: left;\n",
              "  margin-right: 0.25em;\n",
              "  color: var(--sklearn-color-icon);\n",
              "}\n",
              "\n",
              "#sk-container-id-1 label.sk-toggleable__label-arrow:hover:before {\n",
              "  color: var(--sklearn-color-text);\n",
              "}\n",
              "\n",
              "/* Toggleable content - dropdown */\n",
              "\n",
              "#sk-container-id-1 div.sk-toggleable__content {\n",
              "  max-height: 0;\n",
              "  max-width: 0;\n",
              "  overflow: hidden;\n",
              "  text-align: left;\n",
              "  /* unfitted */\n",
              "  background-color: var(--sklearn-color-unfitted-level-0);\n",
              "}\n",
              "\n",
              "#sk-container-id-1 div.sk-toggleable__content.fitted {\n",
              "  /* fitted */\n",
              "  background-color: var(--sklearn-color-fitted-level-0);\n",
              "}\n",
              "\n",
              "#sk-container-id-1 div.sk-toggleable__content pre {\n",
              "  margin: 0.2em;\n",
              "  border-radius: 0.25em;\n",
              "  color: var(--sklearn-color-text);\n",
              "  /* unfitted */\n",
              "  background-color: var(--sklearn-color-unfitted-level-0);\n",
              "}\n",
              "\n",
              "#sk-container-id-1 div.sk-toggleable__content.fitted pre {\n",
              "  /* unfitted */\n",
              "  background-color: var(--sklearn-color-fitted-level-0);\n",
              "}\n",
              "\n",
              "#sk-container-id-1 input.sk-toggleable__control:checked~div.sk-toggleable__content {\n",
              "  /* Expand drop-down */\n",
              "  max-height: 200px;\n",
              "  max-width: 100%;\n",
              "  overflow: auto;\n",
              "}\n",
              "\n",
              "#sk-container-id-1 input.sk-toggleable__control:checked~label.sk-toggleable__label-arrow:before {\n",
              "  content: \"▾\";\n",
              "}\n",
              "\n",
              "/* Pipeline/ColumnTransformer-specific style */\n",
              "\n",
              "#sk-container-id-1 div.sk-label input.sk-toggleable__control:checked~label.sk-toggleable__label {\n",
              "  color: var(--sklearn-color-text);\n",
              "  background-color: var(--sklearn-color-unfitted-level-2);\n",
              "}\n",
              "\n",
              "#sk-container-id-1 div.sk-label.fitted input.sk-toggleable__control:checked~label.sk-toggleable__label {\n",
              "  background-color: var(--sklearn-color-fitted-level-2);\n",
              "}\n",
              "\n",
              "/* Estimator-specific style */\n",
              "\n",
              "/* Colorize estimator box */\n",
              "#sk-container-id-1 div.sk-estimator input.sk-toggleable__control:checked~label.sk-toggleable__label {\n",
              "  /* unfitted */\n",
              "  background-color: var(--sklearn-color-unfitted-level-2);\n",
              "}\n",
              "\n",
              "#sk-container-id-1 div.sk-estimator.fitted input.sk-toggleable__control:checked~label.sk-toggleable__label {\n",
              "  /* fitted */\n",
              "  background-color: var(--sklearn-color-fitted-level-2);\n",
              "}\n",
              "\n",
              "#sk-container-id-1 div.sk-label label.sk-toggleable__label,\n",
              "#sk-container-id-1 div.sk-label label {\n",
              "  /* The background is the default theme color */\n",
              "  color: var(--sklearn-color-text-on-default-background);\n",
              "}\n",
              "\n",
              "/* On hover, darken the color of the background */\n",
              "#sk-container-id-1 div.sk-label:hover label.sk-toggleable__label {\n",
              "  color: var(--sklearn-color-text);\n",
              "  background-color: var(--sklearn-color-unfitted-level-2);\n",
              "}\n",
              "\n",
              "/* Label box, darken color on hover, fitted */\n",
              "#sk-container-id-1 div.sk-label.fitted:hover label.sk-toggleable__label.fitted {\n",
              "  color: var(--sklearn-color-text);\n",
              "  background-color: var(--sklearn-color-fitted-level-2);\n",
              "}\n",
              "\n",
              "/* Estimator label */\n",
              "\n",
              "#sk-container-id-1 div.sk-label label {\n",
              "  font-family: monospace;\n",
              "  font-weight: bold;\n",
              "  display: inline-block;\n",
              "  line-height: 1.2em;\n",
              "}\n",
              "\n",
              "#sk-container-id-1 div.sk-label-container {\n",
              "  text-align: center;\n",
              "}\n",
              "\n",
              "/* Estimator-specific */\n",
              "#sk-container-id-1 div.sk-estimator {\n",
              "  font-family: monospace;\n",
              "  border: 1px dotted var(--sklearn-color-border-box);\n",
              "  border-radius: 0.25em;\n",
              "  box-sizing: border-box;\n",
              "  margin-bottom: 0.5em;\n",
              "  /* unfitted */\n",
              "  background-color: var(--sklearn-color-unfitted-level-0);\n",
              "}\n",
              "\n",
              "#sk-container-id-1 div.sk-estimator.fitted {\n",
              "  /* fitted */\n",
              "  background-color: var(--sklearn-color-fitted-level-0);\n",
              "}\n",
              "\n",
              "/* on hover */\n",
              "#sk-container-id-1 div.sk-estimator:hover {\n",
              "  /* unfitted */\n",
              "  background-color: var(--sklearn-color-unfitted-level-2);\n",
              "}\n",
              "\n",
              "#sk-container-id-1 div.sk-estimator.fitted:hover {\n",
              "  /* fitted */\n",
              "  background-color: var(--sklearn-color-fitted-level-2);\n",
              "}\n",
              "\n",
              "/* Specification for estimator info (e.g. \"i\" and \"?\") */\n",
              "\n",
              "/* Common style for \"i\" and \"?\" */\n",
              "\n",
              ".sk-estimator-doc-link,\n",
              "a:link.sk-estimator-doc-link,\n",
              "a:visited.sk-estimator-doc-link {\n",
              "  float: right;\n",
              "  font-size: smaller;\n",
              "  line-height: 1em;\n",
              "  font-family: monospace;\n",
              "  background-color: var(--sklearn-color-background);\n",
              "  border-radius: 1em;\n",
              "  height: 1em;\n",
              "  width: 1em;\n",
              "  text-decoration: none !important;\n",
              "  margin-left: 0.5em;\n",
              "  text-align: center;\n",
              "  /* unfitted */\n",
              "  border: var(--sklearn-color-unfitted-level-1) 1pt solid;\n",
              "  color: var(--sklearn-color-unfitted-level-1);\n",
              "}\n",
              "\n",
              ".sk-estimator-doc-link.fitted,\n",
              "a:link.sk-estimator-doc-link.fitted,\n",
              "a:visited.sk-estimator-doc-link.fitted {\n",
              "  /* fitted */\n",
              "  border: var(--sklearn-color-fitted-level-1) 1pt solid;\n",
              "  color: var(--sklearn-color-fitted-level-1);\n",
              "}\n",
              "\n",
              "/* On hover */\n",
              "div.sk-estimator:hover .sk-estimator-doc-link:hover,\n",
              ".sk-estimator-doc-link:hover,\n",
              "div.sk-label-container:hover .sk-estimator-doc-link:hover,\n",
              ".sk-estimator-doc-link:hover {\n",
              "  /* unfitted */\n",
              "  background-color: var(--sklearn-color-unfitted-level-3);\n",
              "  color: var(--sklearn-color-background);\n",
              "  text-decoration: none;\n",
              "}\n",
              "\n",
              "div.sk-estimator.fitted:hover .sk-estimator-doc-link.fitted:hover,\n",
              ".sk-estimator-doc-link.fitted:hover,\n",
              "div.sk-label-container:hover .sk-estimator-doc-link.fitted:hover,\n",
              ".sk-estimator-doc-link.fitted:hover {\n",
              "  /* fitted */\n",
              "  background-color: var(--sklearn-color-fitted-level-3);\n",
              "  color: var(--sklearn-color-background);\n",
              "  text-decoration: none;\n",
              "}\n",
              "\n",
              "/* Span, style for the box shown on hovering the info icon */\n",
              ".sk-estimator-doc-link span {\n",
              "  display: none;\n",
              "  z-index: 9999;\n",
              "  position: relative;\n",
              "  font-weight: normal;\n",
              "  right: .2ex;\n",
              "  padding: .5ex;\n",
              "  margin: .5ex;\n",
              "  width: min-content;\n",
              "  min-width: 20ex;\n",
              "  max-width: 50ex;\n",
              "  color: var(--sklearn-color-text);\n",
              "  box-shadow: 2pt 2pt 4pt #999;\n",
              "  /* unfitted */\n",
              "  background: var(--sklearn-color-unfitted-level-0);\n",
              "  border: .5pt solid var(--sklearn-color-unfitted-level-3);\n",
              "}\n",
              "\n",
              ".sk-estimator-doc-link.fitted span {\n",
              "  /* fitted */\n",
              "  background: var(--sklearn-color-fitted-level-0);\n",
              "  border: var(--sklearn-color-fitted-level-3);\n",
              "}\n",
              "\n",
              ".sk-estimator-doc-link:hover span {\n",
              "  display: block;\n",
              "}\n",
              "\n",
              "/* \"?\"-specific style due to the `<a>` HTML tag */\n",
              "\n",
              "#sk-container-id-1 a.estimator_doc_link {\n",
              "  float: right;\n",
              "  font-size: 1rem;\n",
              "  line-height: 1em;\n",
              "  font-family: monospace;\n",
              "  background-color: var(--sklearn-color-background);\n",
              "  border-radius: 1rem;\n",
              "  height: 1rem;\n",
              "  width: 1rem;\n",
              "  text-decoration: none;\n",
              "  /* unfitted */\n",
              "  color: var(--sklearn-color-unfitted-level-1);\n",
              "  border: var(--sklearn-color-unfitted-level-1) 1pt solid;\n",
              "}\n",
              "\n",
              "#sk-container-id-1 a.estimator_doc_link.fitted {\n",
              "  /* fitted */\n",
              "  border: var(--sklearn-color-fitted-level-1) 1pt solid;\n",
              "  color: var(--sklearn-color-fitted-level-1);\n",
              "}\n",
              "\n",
              "/* On hover */\n",
              "#sk-container-id-1 a.estimator_doc_link:hover {\n",
              "  /* unfitted */\n",
              "  background-color: var(--sklearn-color-unfitted-level-3);\n",
              "  color: var(--sklearn-color-background);\n",
              "  text-decoration: none;\n",
              "}\n",
              "\n",
              "#sk-container-id-1 a.estimator_doc_link.fitted:hover {\n",
              "  /* fitted */\n",
              "  background-color: var(--sklearn-color-fitted-level-3);\n",
              "}\n",
              "</style><div id=\"sk-container-id-1\" class=\"sk-top-container\"><div class=\"sk-text-repr-fallback\"><pre>XGBClassifier(base_score=None, booster=None, callbacks=None,\n",
              "              colsample_bylevel=None, colsample_bynode=None,\n",
              "              colsample_bytree=None, device=None, early_stopping_rounds=None,\n",
              "              enable_categorical=False, eval_metric=None, feature_types=None,\n",
              "              feature_weights=None, gamma=None, grow_policy=None,\n",
              "              importance_type=None, interaction_constraints=None,\n",
              "              learning_rate=None, max_bin=None, max_cat_threshold=None,\n",
              "              max_cat_to_onehot=None, max_delta_step=None, max_depth=None,\n",
              "              max_leaves=None, min_child_weight=None, missing=nan,\n",
              "              monotone_constraints=None, multi_strategy=None, n_estimators=None,\n",
              "              n_jobs=None, num_parallel_tree=None, ...)</pre><b>In a Jupyter environment, please rerun this cell to show the HTML representation or trust the notebook. <br />On GitHub, the HTML representation is unable to render, please try loading this page with nbviewer.org.</b></div><div class=\"sk-container\" hidden><div class=\"sk-item\"><div class=\"sk-estimator fitted sk-toggleable\"><input class=\"sk-toggleable__control sk-hidden--visually\" id=\"sk-estimator-id-1\" type=\"checkbox\" checked><label for=\"sk-estimator-id-1\" class=\"sk-toggleable__label fitted sk-toggleable__label-arrow\"><div><div>XGBClassifier</div></div><div><a class=\"sk-estimator-doc-link fitted\" rel=\"noreferrer\" target=\"_blank\" href=\"https://xgboost.readthedocs.io/en/release_3.0.0/python/python_api.html#xgboost.XGBClassifier\">?<span>Documentation for XGBClassifier</span></a><span class=\"sk-estimator-doc-link fitted\">i<span>Fitted</span></span></div></label><div class=\"sk-toggleable__content fitted\"><pre>XGBClassifier(base_score=None, booster=None, callbacks=None,\n",
              "              colsample_bylevel=None, colsample_bynode=None,\n",
              "              colsample_bytree=None, device=None, early_stopping_rounds=None,\n",
              "              enable_categorical=False, eval_metric=None, feature_types=None,\n",
              "              feature_weights=None, gamma=None, grow_policy=None,\n",
              "              importance_type=None, interaction_constraints=None,\n",
              "              learning_rate=None, max_bin=None, max_cat_threshold=None,\n",
              "              max_cat_to_onehot=None, max_delta_step=None, max_depth=None,\n",
              "              max_leaves=None, min_child_weight=None, missing=nan,\n",
              "              monotone_constraints=None, multi_strategy=None, n_estimators=None,\n",
              "              n_jobs=None, num_parallel_tree=None, ...)</pre></div> </div></div></div></div>"
            ]
          },
          "metadata": {},
          "execution_count": 15
        }
      ]
    },
    {
      "cell_type": "code",
      "source": [
        "def detect_fake_news_simple(user_input): ...\n",
        "def detect_fake_news_multimodal(text, url, published_time, image_path): ...\n"
      ],
      "metadata": {
        "id": "FOxHUeuwNhqU"
      },
      "execution_count": 18,
      "outputs": []
    },
    {
      "cell_type": "code",
      "source": [
        "def detect_fake_news(text, url, published_time, image_path):\n",
        "    features = build_feature_vector(text, url, published_time, image_path).reshape(1,-1)\n",
        "    prediction = clf.predict(features)[0]\n",
        "    prob = clf.predict_proba(features)[0]\n",
        "\n",
        "    label = \"REAL ✅\" if prediction == 1 else \"FAKE ❌\"\n",
        "\n",
        "    return {\n",
        "        \"input_text\": text,\n",
        "        \"prediction\": label,\n",
        "        \"confidence_real\": f\"{prob[1]*100:.2f}%\",\n",
        "        \"confidence_fake\": f\"{prob[0]*100:.2f}%\"\n",
        "    }\n"
      ],
      "metadata": {
        "id": "KJPRA0KxNjCl"
      },
      "execution_count": 19,
      "outputs": []
    },
    {
      "cell_type": "code",
      "source": [
        "result = detect_fake_news(sample_text, sample_url, sample_time, sample_image)\n",
        "print(result)\n"
      ],
      "metadata": {
        "colab": {
          "base_uri": "https://localhost:8080/"
        },
        "id": "ElC0Ido2Npid",
        "outputId": "6a5fce7e-5483-4dcc-fa24-aedd030e41a2"
      },
      "execution_count": 20,
      "outputs": [
        {
          "output_type": "stream",
          "name": "stdout",
          "text": [
            "{'input_text': 'Breaking: Miracle cure discovered today!', 'prediction': 'FAKE ❌', 'confidence_real': '50.00%', 'confidence_fake': '50.00%'}\n"
          ]
        }
      ]
    }
  ]
}